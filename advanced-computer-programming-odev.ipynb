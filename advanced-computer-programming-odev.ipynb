{
 "cells": [
  {
   "cell_type": "markdown",
   "metadata": {},
   "source": [
    "# Advanced Computer Progamming Ödevleri"
   ]
  },
  {
   "cell_type": "markdown",
   "metadata": {},
   "source": [
    "## Hafta 2"
   ]
  },
  {
   "cell_type": "markdown",
   "metadata": {},
   "source": [
    "### Ödev 1"
   ]
  },
  {
   "cell_type": "markdown",
   "metadata": {},
   "source": [
    "* 2 adet toptancıdan 100 adet kalem, 50 adet defter, 75 adet silgi fiyatı alınacak.\n",
    "* Toptancıdan alınan fiyatlar toplanacak ve ucuz toptancı bulunacak."
   ]
  },
  {
   "cell_type": "code",
   "execution_count": 8,
   "metadata": {},
   "outputs": [
    {
     "name": "stdout",
     "output_type": "stream",
     "text": [
      "İlk toptancının kalem fiyatını giriniz:150\n",
      "İlk toptancının defter fiyatını giriniz:375\n",
      "İlk toptancının silgi fiyatını giriniz:75\n",
      "Birinci toptancının toplan fiyatı : 600\n",
      "İkinci toptancının kalem fiyatını giriniz:225\n",
      "İkinci toptancının defter fiyatını giriniz:500\n",
      "İkinci toptancının silgi fiyatını giriniz:100\n",
      "İkinci toptancının toplan fiyatı : 825\n",
      "Birinci toptancı 600 TL ile daha ucuzdur.\n"
     ]
    }
   ],
   "source": [
    "toptanci1kalem = int(input(\"İlk toptancının kalem fiyatını giriniz:\"))\n",
    "toptanci1defter = int(input(\"İlk toptancının defter fiyatını giriniz:\"))\n",
    "toptanci1silgi = int(input(\"İlk toptancının silgi fiyatını giriniz:\"))\n",
    "toptanci1toplam = toptanci1kalem+toptanci1defter+toptanci1silgi\n",
    "print(\"Birinci toptancının toplan fiyatı : {}\".format(toptanci1toplam))\n",
    "\n",
    "toptanci2kalem = int(input(\"İkinci toptancının kalem fiyatını giriniz:\"))\n",
    "toptanci2defter = int(input(\"İkinci toptancının defter fiyatını giriniz:\"))\n",
    "toptanci2silgi = int(input(\"İkinci toptancının silgi fiyatını giriniz:\"))\n",
    "toptanci2toplam = toptanci2kalem+toptanci2defter+toptanci2silgi\n",
    "print(\"İkinci toptancının toplan fiyatı : {}\".format(toptanci2toplam))\n",
    "\n",
    "if toptanci1toplam < toptanci2toplam:\n",
    "    print(\"Birinci toptancı {} TL ile daha ucuzdur.\".format(toptanci1toplam))\n",
    "elif toptanci2toplam < toptanci1toplam:\n",
    "    print(\"İkinci toptancı {} TL ile daha ucuzdur.\".format(toptanci2toplam))\n",
    "else:\n",
    "    print(\"Her iki toptancının fiyatı da {} TL'dir\".format(toptanci1toplam))"
   ]
  },
  {
   "cell_type": "markdown",
   "metadata": {},
   "source": [
    "### Ödev 2\n",
    "* Bir market deposundaki 2 adet küçük ve büyük forklift aracı var.\n",
    "* Küçük boy forklift aracı 200 kg ve altındaki yükleri taşıyor.\n",
    "* Büyük boy forklift aracı 200 kg üzerindeki yükleri taşıyor.\n",
    "* Büyük boy forklift aracı en çok 400 kg yük taşıyabiliyor.\n",
    "* Forklifte yüklenecek ürünün kg değeri kullanıcıdan alınır ve hangi forklifte yükleme yapılacağı tespit edilir."
   ]
  },
  {
   "cell_type": "code",
   "execution_count": 1,
   "metadata": {},
   "outputs": [
    {
     "name": "stdout",
     "output_type": "stream",
     "text": [
      "Forklifte yüklenecek yükün kg değerini giriniz:150\n",
      "Ürün küçük forklifte yüklenecektir.\n"
     ]
    }
   ],
   "source": [
    "urunkg = int(input(\"Forklifte yüklenecek yükün kg değerini giriniz:\"))\n",
    "\n",
    "if urunkg < 0:\n",
    "    print(\"Hatalı sayı girdiniz!\")\n",
    "elif urunkg <= 200:\n",
    "    print(\"Ürün küçük forklifte yüklenecektir.\")\n",
    "elif urunkg <= 400:\n",
    "    print(\"Ürün büyük forklifte yüklenecektir.\")\n",
    "elif urunkg > 400:\n",
    "    print(\"Ürünü taşıyabilecek forklift bulunmuyor.\")"
   ]
  },
  {
   "cell_type": "markdown",
   "metadata": {},
   "source": [
    "### Ödev 3\n",
    "* Hastanın nabız ve SPO2 değerleri alınır.\n",
    "* Hastanın nabız aralığı 60 ve 100 arasında ise nabız normaldir.\n",
    "* SPO2 değer aralığı 90 ve 100 arasında ise SPO2 normaldir.\n",
    "* Eğer normal değerlerin dışında ise program uyarı verir."
   ]
  },
  {
   "cell_type": "code",
   "execution_count": 51,
   "metadata": {},
   "outputs": [
    {
     "name": "stdout",
     "output_type": "stream",
     "text": [
      "Hastanın 1 dakikadaki nabız sayısını giriniz:89\n",
      "Hastanın SPO2 değerini giriniz:97\n",
      "Nabız değeri normaldir.\n",
      "SPO2 değeri normaldir.\n"
     ]
    }
   ],
   "source": [
    "nabiz = int(input(\"Hastanın 1 dakikadaki nabız sayısını giriniz:\"))\n",
    "spo2 = int(input(\"Hastanın SPO2 değerini giriniz:\"))\n",
    "\n",
    "if nabiz < 60:\n",
    "    print(\"Nabız değeri normalin altındadır.\")\n",
    "elif nabiz<= 100:\n",
    "    print(\"Nabız değeri normaldir.\")\n",
    "elif nabiz > 100:\n",
    "    print(\"Nabız değeri normalin üstündedir.\")\n",
    "    \n",
    "if spo2 < 90:\n",
    "    print(\"SPO2 değeri normalin altındadır.\")\n",
    "elif spo2 <= 100:\n",
    "    print(\"SPO2 değeri normaldir.\")\n",
    "elif spo2 > 100:\n",
    "    print(\"Hatalı sayı girdiniz.\")"
   ]
  }
 ],
 "metadata": {
  "kernelspec": {
   "display_name": "Python 3",
   "language": "python",
   "name": "python3"
  },
  "language_info": {
   "codemirror_mode": {
    "name": "ipython",
    "version": 3
   },
   "file_extension": ".py",
   "mimetype": "text/x-python",
   "name": "python",
   "nbconvert_exporter": "python",
   "pygments_lexer": "ipython3",
   "version": "3.8.5"
  }
 },
 "nbformat": 4,
 "nbformat_minor": 4
}
